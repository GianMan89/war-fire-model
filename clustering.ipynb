{
 "cells": [
  {
   "cell_type": "code",
   "execution_count": 1,
   "metadata": {},
   "outputs": [],
   "source": [
    "import pandas as pd\n",
    "import numpy as np\n",
    "\n",
    "import warnings\n",
    "warnings.filterwarnings(\"ignore\")"
   ]
  },
  {
   "cell_type": "code",
   "execution_count": 2,
   "metadata": {},
   "outputs": [
    {
     "name": "stdout",
     "output_type": "stream",
     "text": [
      "(1308050, 19)\n"
     ]
    }
   ],
   "source": [
    "# Load the aggregated data\n",
    "X = pd.read_csv('input_data/processed/aggregated_data_001.csv')\n",
    "print(X.shape)"
   ]
  },
  {
   "cell_type": "code",
   "execution_count": 3,
   "metadata": {},
   "outputs": [
    {
     "data": {
      "text/plain": [
       "Index(['FIRE_ID', 'LATITUDE', 'LONGITUDE', 'ACQ_DATE', 'ACQ_TIME', 'OBLAST_ID',\n",
       "       'GRID_CELL', 'DAY_OF_YEAR', 'FIRE_COUNT_CELL', 'FIRE_COUNT_OBLAST',\n",
       "       'FIRE_COUNT_CELL_AVG_7D', 'FIRE_COUNT_OBLAST_AVG_7D',\n",
       "       'FIRE_COUNT_CELL_AVG_30D', 'FIRE_COUNT_OBLAST_AVG_30D',\n",
       "       'POP_DENSITY_CELL_AVG', 'LAND_USE_CLASS_1', 'LAND_USE_CLASS_2',\n",
       "       'LAND_USE_CLASS_3', 'LAND_USE_CLASS_4'],\n",
       "      dtype='object')"
      ]
     },
     "execution_count": 3,
     "metadata": {},
     "output_type": "execute_result"
    }
   ],
   "source": [
    "X.columns"
   ]
  },
  {
   "cell_type": "code",
   "execution_count": 4,
   "metadata": {},
   "outputs": [
    {
     "data": {
      "text/html": [
       "<div>\n",
       "<style scoped>\n",
       "    .dataframe tbody tr th:only-of-type {\n",
       "        vertical-align: middle;\n",
       "    }\n",
       "\n",
       "    .dataframe tbody tr th {\n",
       "        vertical-align: top;\n",
       "    }\n",
       "\n",
       "    .dataframe thead th {\n",
       "        text-align: right;\n",
       "    }\n",
       "</style>\n",
       "<table border=\"1\" class=\"dataframe\">\n",
       "  <thead>\n",
       "    <tr style=\"text-align: right;\">\n",
       "      <th></th>\n",
       "      <th>FIRE_ID</th>\n",
       "      <th>ACQ_DATE</th>\n",
       "      <th>DAY_OF_YEAR</th>\n",
       "      <th>LATITUDE</th>\n",
       "      <th>LONGITUDE</th>\n",
       "    </tr>\n",
       "  </thead>\n",
       "  <tbody>\n",
       "    <tr>\n",
       "      <th>0</th>\n",
       "      <td>921182</td>\n",
       "      <td>2015-01-01</td>\n",
       "      <td>1</td>\n",
       "      <td>47.09</td>\n",
       "      <td>37.61</td>\n",
       "    </tr>\n",
       "    <tr>\n",
       "      <th>1</th>\n",
       "      <td>921184</td>\n",
       "      <td>2015-01-01</td>\n",
       "      <td>1</td>\n",
       "      <td>47.09</td>\n",
       "      <td>37.61</td>\n",
       "    </tr>\n",
       "    <tr>\n",
       "      <th>2</th>\n",
       "      <td>921183</td>\n",
       "      <td>2015-01-01</td>\n",
       "      <td>1</td>\n",
       "      <td>47.09</td>\n",
       "      <td>37.61</td>\n",
       "    </tr>\n",
       "    <tr>\n",
       "      <th>3</th>\n",
       "      <td>921181</td>\n",
       "      <td>2015-01-01</td>\n",
       "      <td>1</td>\n",
       "      <td>47.15</td>\n",
       "      <td>37.53</td>\n",
       "    </tr>\n",
       "    <tr>\n",
       "      <th>4</th>\n",
       "      <td>921185</td>\n",
       "      <td>2015-01-02</td>\n",
       "      <td>2</td>\n",
       "      <td>50.51</td>\n",
       "      <td>28.74</td>\n",
       "    </tr>\n",
       "  </tbody>\n",
       "</table>\n",
       "</div>"
      ],
      "text/plain": [
       "   FIRE_ID    ACQ_DATE  DAY_OF_YEAR  LATITUDE  LONGITUDE\n",
       "0   921182  2015-01-01            1     47.09      37.61\n",
       "1   921184  2015-01-01            1     47.09      37.61\n",
       "2   921183  2015-01-01            1     47.09      37.61\n",
       "3   921181  2015-01-01            1     47.15      37.53\n",
       "4   921185  2015-01-02            2     50.51      28.74"
      ]
     },
     "execution_count": 4,
     "metadata": {},
     "output_type": "execute_result"
    }
   ],
   "source": [
    "# We want to use plot the data later, thus we need to copy the original values of the temporal and spatial features and the fire IDs\n",
    "temporal_spatial_features = ['FIRE_ID', 'ACQ_DATE', 'DAY_OF_YEAR', 'LATITUDE', 'LONGITUDE']\n",
    "X_ts = X[temporal_spatial_features].copy()\n",
    "X_ts.head()"
   ]
  },
  {
   "cell_type": "code",
   "execution_count": 5,
   "metadata": {},
   "outputs": [
    {
     "data": {
      "text/plain": [
       "(1308050, 15)"
      ]
     },
     "execution_count": 5,
     "metadata": {},
     "output_type": "execute_result"
    }
   ],
   "source": [
    "# Lets define which columns to keep\n",
    "columns_to_keep = [\n",
    "    'ACQ_DATE',\n",
    "    'LATITUDE', \n",
    "    'LONGITUDE', \n",
    "    'DAY_OF_YEAR', \n",
    "    'FIRE_COUNT_CELL', \n",
    "    'FIRE_COUNT_CELL_AVG_7D',\n",
    "    'FIRE_COUNT_CELL_AVG_30D',\n",
    "    'FIRE_COUNT_OBLAST',\n",
    "    'FIRE_COUNT_OBLAST_AVG_7D',\n",
    "    'FIRE_COUNT_OBLAST_AVG_30D',\n",
    "    'POP_DENSITY_CELL_AVG',\n",
    "    'LAND_USE_CLASS_1',\n",
    "    'LAND_USE_CLASS_2',\n",
    "    'LAND_USE_CLASS_3',\n",
    "    'LAND_USE_CLASS_4',\n",
    "    ]\n",
    "# Drop the columns that we don't need\n",
    "X = X.drop(columns=set(X.columns) - set(columns_to_keep))\n",
    "X.shape"
   ]
  },
  {
   "cell_type": "code",
   "execution_count": 6,
   "metadata": {},
   "outputs": [
    {
     "data": {
      "text/plain": [
       "(896367, 14)"
      ]
     },
     "execution_count": 6,
     "metadata": {},
     "output_type": "execute_result"
    }
   ],
   "source": [
    "# Get the data for those rows with ACQ_DATE smaller than 2022-02-24 (the first day of the UKR war)\n",
    "# and for those rows with ACQ_DATE greater than 2022-02-24\n",
    "\n",
    "# Data before the war\n",
    "X_pre = X[X['ACQ_DATE'] < '2022-02-24']\n",
    "X_ts_pre = X_ts[X['ACQ_DATE'] < '2022-02-24']\n",
    "X_pre.drop(columns=['ACQ_DATE'], inplace=True)\n",
    "\n",
    "X_pre.shape"
   ]
  },
  {
   "cell_type": "code",
   "execution_count": 7,
   "metadata": {},
   "outputs": [
    {
     "data": {
      "text/html": [
       "<div>\n",
       "<style scoped>\n",
       "    .dataframe tbody tr th:only-of-type {\n",
       "        vertical-align: middle;\n",
       "    }\n",
       "\n",
       "    .dataframe tbody tr th {\n",
       "        vertical-align: top;\n",
       "    }\n",
       "\n",
       "    .dataframe thead th {\n",
       "        text-align: right;\n",
       "    }\n",
       "</style>\n",
       "<table border=\"1\" class=\"dataframe\">\n",
       "  <thead>\n",
       "    <tr style=\"text-align: right;\">\n",
       "      <th></th>\n",
       "      <th>LATITUDE</th>\n",
       "      <th>LONGITUDE</th>\n",
       "      <th>DAY_OF_YEAR</th>\n",
       "      <th>FIRE_COUNT_CELL</th>\n",
       "      <th>FIRE_COUNT_OBLAST</th>\n",
       "      <th>FIRE_COUNT_CELL_AVG_7D</th>\n",
       "      <th>FIRE_COUNT_OBLAST_AVG_7D</th>\n",
       "      <th>FIRE_COUNT_CELL_AVG_30D</th>\n",
       "      <th>FIRE_COUNT_OBLAST_AVG_30D</th>\n",
       "      <th>POP_DENSITY_CELL_AVG</th>\n",
       "      <th>LAND_USE_CLASS_1</th>\n",
       "      <th>LAND_USE_CLASS_2</th>\n",
       "      <th>LAND_USE_CLASS_3</th>\n",
       "      <th>LAND_USE_CLASS_4</th>\n",
       "    </tr>\n",
       "  </thead>\n",
       "  <tbody>\n",
       "    <tr>\n",
       "      <th>0</th>\n",
       "      <td>-1.087270</td>\n",
       "      <td>1.168188</td>\n",
       "      <td>-2.434418</td>\n",
       "      <td>0.516762</td>\n",
       "      <td>-0.979767</td>\n",
       "      <td>-0.161225</td>\n",
       "      <td>-0.951214</td>\n",
       "      <td>0.899824</td>\n",
       "      <td>-0.961419</td>\n",
       "      <td>2.054218</td>\n",
       "      <td>-0.286956</td>\n",
       "      <td>-0.345282</td>\n",
       "      <td>0.658513</td>\n",
       "      <td>-0.363323</td>\n",
       "    </tr>\n",
       "    <tr>\n",
       "      <th>1</th>\n",
       "      <td>-1.087270</td>\n",
       "      <td>1.168188</td>\n",
       "      <td>-2.434418</td>\n",
       "      <td>0.516762</td>\n",
       "      <td>-0.979767</td>\n",
       "      <td>-0.068254</td>\n",
       "      <td>-0.956203</td>\n",
       "      <td>0.886693</td>\n",
       "      <td>-0.962588</td>\n",
       "      <td>2.054218</td>\n",
       "      <td>-0.286956</td>\n",
       "      <td>-0.345282</td>\n",
       "      <td>0.658513</td>\n",
       "      <td>-0.363323</td>\n",
       "    </tr>\n",
       "    <tr>\n",
       "      <th>2</th>\n",
       "      <td>-1.087270</td>\n",
       "      <td>1.168188</td>\n",
       "      <td>-2.434418</td>\n",
       "      <td>0.516762</td>\n",
       "      <td>-0.979767</td>\n",
       "      <td>0.024716</td>\n",
       "      <td>-0.961192</td>\n",
       "      <td>0.874757</td>\n",
       "      <td>-0.963757</td>\n",
       "      <td>2.054218</td>\n",
       "      <td>-0.286956</td>\n",
       "      <td>-0.345282</td>\n",
       "      <td>0.658513</td>\n",
       "      <td>-0.363323</td>\n",
       "    </tr>\n",
       "    <tr>\n",
       "      <th>3</th>\n",
       "      <td>-1.048173</td>\n",
       "      <td>1.149366</td>\n",
       "      <td>-2.434418</td>\n",
       "      <td>-0.673332</td>\n",
       "      <td>-0.979767</td>\n",
       "      <td>-0.719045</td>\n",
       "      <td>-0.966181</td>\n",
       "      <td>-0.754625</td>\n",
       "      <td>-0.964927</td>\n",
       "      <td>2.054218</td>\n",
       "      <td>-0.286956</td>\n",
       "      <td>-0.345282</td>\n",
       "      <td>0.658513</td>\n",
       "      <td>-0.363323</td>\n",
       "    </tr>\n",
       "    <tr>\n",
       "      <th>4</th>\n",
       "      <td>1.141215</td>\n",
       "      <td>-0.918662</td>\n",
       "      <td>-2.421335</td>\n",
       "      <td>-0.673332</td>\n",
       "      <td>-1.000693</td>\n",
       "      <td>-0.719045</td>\n",
       "      <td>-0.993123</td>\n",
       "      <td>-0.754625</td>\n",
       "      <td>-0.983837</td>\n",
       "      <td>-0.511679</td>\n",
       "      <td>-0.286956</td>\n",
       "      <td>-0.345282</td>\n",
       "      <td>0.658513</td>\n",
       "      <td>-0.363323</td>\n",
       "    </tr>\n",
       "  </tbody>\n",
       "</table>\n",
       "</div>"
      ],
      "text/plain": [
       "   LATITUDE  LONGITUDE  DAY_OF_YEAR  FIRE_COUNT_CELL  FIRE_COUNT_OBLAST  \\\n",
       "0 -1.087270   1.168188    -2.434418         0.516762          -0.979767   \n",
       "1 -1.087270   1.168188    -2.434418         0.516762          -0.979767   \n",
       "2 -1.087270   1.168188    -2.434418         0.516762          -0.979767   \n",
       "3 -1.048173   1.149366    -2.434418        -0.673332          -0.979767   \n",
       "4  1.141215  -0.918662    -2.421335        -0.673332          -1.000693   \n",
       "\n",
       "   FIRE_COUNT_CELL_AVG_7D  FIRE_COUNT_OBLAST_AVG_7D  FIRE_COUNT_CELL_AVG_30D  \\\n",
       "0               -0.161225                 -0.951214                 0.899824   \n",
       "1               -0.068254                 -0.956203                 0.886693   \n",
       "2                0.024716                 -0.961192                 0.874757   \n",
       "3               -0.719045                 -0.966181                -0.754625   \n",
       "4               -0.719045                 -0.993123                -0.754625   \n",
       "\n",
       "   FIRE_COUNT_OBLAST_AVG_30D  POP_DENSITY_CELL_AVG  LAND_USE_CLASS_1  \\\n",
       "0                  -0.961419              2.054218         -0.286956   \n",
       "1                  -0.962588              2.054218         -0.286956   \n",
       "2                  -0.963757              2.054218         -0.286956   \n",
       "3                  -0.964927              2.054218         -0.286956   \n",
       "4                  -0.983837             -0.511679         -0.286956   \n",
       "\n",
       "   LAND_USE_CLASS_2  LAND_USE_CLASS_3  LAND_USE_CLASS_4  \n",
       "0         -0.345282          0.658513         -0.363323  \n",
       "1         -0.345282          0.658513         -0.363323  \n",
       "2         -0.345282          0.658513         -0.363323  \n",
       "3         -0.345282          0.658513         -0.363323  \n",
       "4         -0.345282          0.658513         -0.363323  "
      ]
     },
     "execution_count": 7,
     "metadata": {},
     "output_type": "execute_result"
    }
   ],
   "source": [
    "# Lets transform the data so that we can use it for clustering\n",
    "from sklearn.preprocessing import StandardScaler\n",
    "\n",
    "scaler = StandardScaler()\n",
    "scaler.fit(X_pre)\n",
    "X_pre_scaled = scaler.transform(X_pre)\n",
    "\n",
    "X_pre_scaled = pd.DataFrame(X_pre_scaled, columns=X_pre.columns)\n",
    "X_pre_scaled.head()"
   ]
  },
  {
   "cell_type": "code",
   "execution_count": 8,
   "metadata": {},
   "outputs": [
    {
     "data": {
      "text/html": [
       "<div>\n",
       "<style scoped>\n",
       "    .dataframe tbody tr th:only-of-type {\n",
       "        vertical-align: middle;\n",
       "    }\n",
       "\n",
       "    .dataframe tbody tr th {\n",
       "        vertical-align: top;\n",
       "    }\n",
       "\n",
       "    .dataframe thead th {\n",
       "        text-align: right;\n",
       "    }\n",
       "</style>\n",
       "<table border=\"1\" class=\"dataframe\">\n",
       "  <thead>\n",
       "    <tr style=\"text-align: right;\">\n",
       "      <th></th>\n",
       "      <th>0</th>\n",
       "      <th>1</th>\n",
       "      <th>2</th>\n",
       "      <th>3</th>\n",
       "      <th>4</th>\n",
       "      <th>5</th>\n",
       "      <th>6</th>\n",
       "      <th>7</th>\n",
       "      <th>8</th>\n",
       "      <th>9</th>\n",
       "    </tr>\n",
       "  </thead>\n",
       "  <tbody>\n",
       "    <tr>\n",
       "      <th>0</th>\n",
       "      <td>-1.374959</td>\n",
       "      <td>1.340125</td>\n",
       "      <td>0.023832</td>\n",
       "      <td>-0.700548</td>\n",
       "      <td>-0.665593</td>\n",
       "      <td>-1.824658</td>\n",
       "      <td>-2.500547</td>\n",
       "      <td>-0.633400</td>\n",
       "      <td>1.460238</td>\n",
       "      <td>-0.052238</td>\n",
       "    </tr>\n",
       "    <tr>\n",
       "      <th>1</th>\n",
       "      <td>-1.351500</td>\n",
       "      <td>1.375140</td>\n",
       "      <td>0.043223</td>\n",
       "      <td>-0.706143</td>\n",
       "      <td>-0.668156</td>\n",
       "      <td>-1.828080</td>\n",
       "      <td>-2.506011</td>\n",
       "      <td>-0.634814</td>\n",
       "      <td>1.459762</td>\n",
       "      <td>-0.066945</td>\n",
       "    </tr>\n",
       "    <tr>\n",
       "      <th>2</th>\n",
       "      <td>-1.327659</td>\n",
       "      <td>1.410653</td>\n",
       "      <td>0.062874</td>\n",
       "      <td>-0.711829</td>\n",
       "      <td>-0.670755</td>\n",
       "      <td>-1.831545</td>\n",
       "      <td>-2.511538</td>\n",
       "      <td>-0.636244</td>\n",
       "      <td>1.459280</td>\n",
       "      <td>-0.082305</td>\n",
       "    </tr>\n",
       "    <tr>\n",
       "      <th>3</th>\n",
       "      <td>-2.473470</td>\n",
       "      <td>-0.054122</td>\n",
       "      <td>-0.696804</td>\n",
       "      <td>-0.409604</td>\n",
       "      <td>-0.564782</td>\n",
       "      <td>-1.702680</td>\n",
       "      <td>-2.282596</td>\n",
       "      <td>-0.554315</td>\n",
       "      <td>1.478698</td>\n",
       "      <td>0.025888</td>\n",
       "    </tr>\n",
       "    <tr>\n",
       "      <th>4</th>\n",
       "      <td>-1.607116</td>\n",
       "      <td>-1.038983</td>\n",
       "      <td>1.043747</td>\n",
       "      <td>1.884137</td>\n",
       "      <td>-0.669353</td>\n",
       "      <td>-1.976050</td>\n",
       "      <td>-0.879053</td>\n",
       "      <td>0.187224</td>\n",
       "      <td>-0.264534</td>\n",
       "      <td>0.031801</td>\n",
       "    </tr>\n",
       "  </tbody>\n",
       "</table>\n",
       "</div>"
      ],
      "text/plain": [
       "          0         1         2         3         4         5         6  \\\n",
       "0 -1.374959  1.340125  0.023832 -0.700548 -0.665593 -1.824658 -2.500547   \n",
       "1 -1.351500  1.375140  0.043223 -0.706143 -0.668156 -1.828080 -2.506011   \n",
       "2 -1.327659  1.410653  0.062874 -0.711829 -0.670755 -1.831545 -2.511538   \n",
       "3 -2.473470 -0.054122 -0.696804 -0.409604 -0.564782 -1.702680 -2.282596   \n",
       "4 -1.607116 -1.038983  1.043747  1.884137 -0.669353 -1.976050 -0.879053   \n",
       "\n",
       "          7         8         9  \n",
       "0 -0.633400  1.460238 -0.052238  \n",
       "1 -0.634814  1.459762 -0.066945  \n",
       "2 -0.636244  1.459280 -0.082305  \n",
       "3 -0.554315  1.478698  0.025888  \n",
       "4  0.187224 -0.264534  0.031801  "
      ]
     },
     "execution_count": 8,
     "metadata": {},
     "output_type": "execute_result"
    }
   ],
   "source": [
    "# Now lets apply PCA to reduce the dimensionality of the data\n",
    "from sklearn.decomposition import PCA\n",
    "\n",
    "pca = PCA(n_components=0.99)\n",
    "X_pre_pca = pca.fit_transform(X_pre_scaled)\n",
    "\n",
    "X_pre_pca = pd.DataFrame(X_pre_pca)\n",
    "X_pre_pca.head()"
   ]
  },
  {
   "cell_type": "code",
   "execution_count": 9,
   "metadata": {},
   "outputs": [
    {
     "data": {
      "image/png": "[encoded data removed]",
      "text/plain": [
       "<Figure size 640x480 with 1 Axes>"
      ]
     },
     "metadata": {},
     "output_type": "display_data"
    }
   ],
   "source": [
    "# Find the optimal number of clusters using the elbow method\n",
    "from sklearn.cluster import KMeans\n",
    "import matplotlib.pyplot as plt\n",
    "\n",
    "inertia = []\n",
    "for i in range(1, 31):\n",
    "    kmeans = KMeans(n_clusters=i, random_state=42)\n",
    "    kmeans.fit(X_pre_pca)\n",
    "    inertia.append(kmeans.inertia_)\n",
    "\n",
    "plt.plot(range(1, 31), inertia)\n",
    "plt.title('Elbow Method')\n",
    "plt.xlabel('Number of clusters')\n",
    "plt.ylabel('Inertia')\n",
    "plt.show()"
   ]
  },
  {
   "cell_type": "code",
   "execution_count": 10,
   "metadata": {},
   "outputs": [
    {
     "data": {
      "text/plain": [
       "7    196437\n",
       "0    139171\n",
       "3    110717\n",
       "2    105224\n",
       "8     85984\n",
       "6     79447\n",
       "1     73745\n",
       "9     59193\n",
       "5     24949\n",
       "4     21500\n",
       "Name: count, dtype: int64"
      ]
     },
     "execution_count": 10,
     "metadata": {},
     "output_type": "execute_result"
    }
   ],
   "source": [
    "# Use a clustering algorithm where I can specify the number of clusters\n",
    "from sklearn.cluster import KMeans\n",
    "\n",
    "kmeans = KMeans(n_clusters=10)\n",
    "kmeans.fit(X_pre_pca)\n",
    "\n",
    "# Get the labels of the clusters\n",
    "y_labels = kmeans.labels_\n",
    "\n",
    "# Get the size of each cluster\n",
    "cluster_sizes = pd.Series(kmeans.labels_).value_counts()\n",
    "cluster_sizes"
   ]
  },
  {
   "cell_type": "code",
   "execution_count": 11,
   "metadata": {},
   "outputs": [],
   "source": [
    "# Save the cluster labels to a file\n",
    "cluster_labels = pd.DataFrame({'FIRE_ID': X_ts_pre['FIRE_ID'], 'CLUSTER_LABEL': y_labels})\n",
    "cluster_labels.to_csv('output_data/cluster_labels_pre_war.csv', index=False)"
   ]
  },
  {
   "cell_type": "code",
   "execution_count": 12,
   "metadata": {},
   "outputs": [],
   "source": [
    "# Save the scaler and pca objects\n",
    "import pickle\n",
    "\n",
    "with open('saved_models/scaler.pkl', 'wb') as f:\n",
    "    pickle.dump(scaler, f)\n",
    "\n",
    "with open('saved_models/pca.pkl', 'wb') as f:\n",
    "    pickle.dump(pca, f)"
   ]
  }
 ],
 "metadata": {
  "kernelspec": {
   "display_name": ".venv",
   "language": "python",
   "name": "python3"
  },
  "language_info": {
   "codemirror_mode": {
    "name": "ipython",
    "version": 3
   },
   "file_extension": ".py",
   "mimetype": "text/x-python",
   "name": "python",
   "nbconvert_exporter": "python",
   "pygments_lexer": "ipython3",
   "version": "3.12.3"
  }
 },
 "nbformat": 4,
 "nbformat_minor": 2
}
