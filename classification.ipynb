{
 "cells": [
  {
   "cell_type": "code",
   "execution_count": 1,
   "metadata": {},
   "outputs": [],
   "source": [
    "import pandas as pd\n",
    "import numpy as np\n",
    "\n",
    "import warnings\n",
    "warnings.filterwarnings(\"ignore\")"
   ]
  },
  {
   "cell_type": "code",
   "execution_count": 2,
   "metadata": {},
   "outputs": [
    {
     "name": "stdout",
     "output_type": "stream",
     "text": [
      "(1308050, 19)\n"
     ]
    }
   ],
   "source": [
    "# Load the aggregated data\n",
    "X = pd.read_csv('input_data/processed/aggregated_data_001.csv')\n",
    "print(X.shape)"
   ]
  },
  {
   "cell_type": "code",
   "execution_count": 3,
   "metadata": {},
   "outputs": [
    {
     "data": {
      "text/html": [
       "<div>\n",
       "<style scoped>\n",
       "    .dataframe tbody tr th:only-of-type {\n",
       "        vertical-align: middle;\n",
       "    }\n",
       "\n",
       "    .dataframe tbody tr th {\n",
       "        vertical-align: top;\n",
       "    }\n",
       "\n",
       "    .dataframe thead th {\n",
       "        text-align: right;\n",
       "    }\n",
       "</style>\n",
       "<table border=\"1\" class=\"dataframe\">\n",
       "  <thead>\n",
       "    <tr style=\"text-align: right;\">\n",
       "      <th></th>\n",
       "      <th>FIRE_ID</th>\n",
       "      <th>ACQ_DATE</th>\n",
       "      <th>DAY_OF_YEAR</th>\n",
       "      <th>LATITUDE</th>\n",
       "      <th>LONGITUDE</th>\n",
       "    </tr>\n",
       "  </thead>\n",
       "  <tbody>\n",
       "    <tr>\n",
       "      <th>0</th>\n",
       "      <td>921182</td>\n",
       "      <td>2015-01-01</td>\n",
       "      <td>1</td>\n",
       "      <td>47.09</td>\n",
       "      <td>37.61</td>\n",
       "    </tr>\n",
       "    <tr>\n",
       "      <th>1</th>\n",
       "      <td>921184</td>\n",
       "      <td>2015-01-01</td>\n",
       "      <td>1</td>\n",
       "      <td>47.09</td>\n",
       "      <td>37.61</td>\n",
       "    </tr>\n",
       "    <tr>\n",
       "      <th>2</th>\n",
       "      <td>921183</td>\n",
       "      <td>2015-01-01</td>\n",
       "      <td>1</td>\n",
       "      <td>47.09</td>\n",
       "      <td>37.61</td>\n",
       "    </tr>\n",
       "    <tr>\n",
       "      <th>3</th>\n",
       "      <td>921181</td>\n",
       "      <td>2015-01-01</td>\n",
       "      <td>1</td>\n",
       "      <td>47.15</td>\n",
       "      <td>37.53</td>\n",
       "    </tr>\n",
       "    <tr>\n",
       "      <th>4</th>\n",
       "      <td>921185</td>\n",
       "      <td>2015-01-02</td>\n",
       "      <td>2</td>\n",
       "      <td>50.51</td>\n",
       "      <td>28.74</td>\n",
       "    </tr>\n",
       "  </tbody>\n",
       "</table>\n",
       "</div>"
      ],
      "text/plain": [
       "   FIRE_ID    ACQ_DATE  DAY_OF_YEAR  LATITUDE  LONGITUDE\n",
       "0   921182  2015-01-01            1     47.09      37.61\n",
       "1   921184  2015-01-01            1     47.09      37.61\n",
       "2   921183  2015-01-01            1     47.09      37.61\n",
       "3   921181  2015-01-01            1     47.15      37.53\n",
       "4   921185  2015-01-02            2     50.51      28.74"
      ]
     },
     "execution_count": 3,
     "metadata": {},
     "output_type": "execute_result"
    }
   ],
   "source": [
    "# We want to use plot the data later, thus we need to copy the original values of the temporal and spatial features and the fire IDs\n",
    "temporal_spatial_features = ['FIRE_ID', 'ACQ_DATE', 'DAY_OF_YEAR', 'LATITUDE', 'LONGITUDE']\n",
    "X_ts = X[temporal_spatial_features].copy()\n",
    "X_ts.head()"
   ]
  },
  {
   "cell_type": "code",
   "execution_count": 4,
   "metadata": {},
   "outputs": [
    {
     "data": {
      "text/plain": [
       "(1308050, 15)"
      ]
     },
     "execution_count": 4,
     "metadata": {},
     "output_type": "execute_result"
    }
   ],
   "source": [
    "# Lets define which columns to keep\n",
    "columns_to_keep = [\n",
    "    'ACQ_DATE',\n",
    "    'LATITUDE', \n",
    "    'LONGITUDE', \n",
    "    'DAY_OF_YEAR', \n",
    "    'FIRE_COUNT_CELL', \n",
    "    'FIRE_COUNT_CELL_AVG_7D',\n",
    "    'FIRE_COUNT_CELL_AVG_30D',\n",
    "    'FIRE_COUNT_OBLAST',\n",
    "    'FIRE_COUNT_OBLAST_AVG_7D',\n",
    "    'FIRE_COUNT_OBLAST_AVG_30D',\n",
    "    'POP_DENSITY_CELL_AVG',\n",
    "    'LAND_USE_CLASS_1',\n",
    "    'LAND_USE_CLASS_2',\n",
    "    'LAND_USE_CLASS_3',\n",
    "    'LAND_USE_CLASS_4',\n",
    "    ]\n",
    "# Drop the columns that we don't need\n",
    "X = X.drop(columns=set(X.columns) - set(columns_to_keep))\n",
    "X.shape"
   ]
  },
  {
   "cell_type": "code",
   "execution_count": 5,
   "metadata": {},
   "outputs": [
    {
     "data": {
      "text/plain": [
       "((896367, 14), (411683, 14))"
      ]
     },
     "execution_count": 5,
     "metadata": {},
     "output_type": "execute_result"
    }
   ],
   "source": [
    "# Get the data for those rows with ACQ_DATE smaller than 2022-02-24 (the first day of the UKR war)\n",
    "# and for those rows with ACQ_DATE greater than 2022-02-24\n",
    "\n",
    "# Data before the war\n",
    "X_pre = X[X['ACQ_DATE'] < '2022-02-24']\n",
    "X_ts_pre = X_ts[X['ACQ_DATE'] < '2022-02-24']\n",
    "X_pre.drop(columns=['ACQ_DATE'], inplace=True)\n",
    "\n",
    "# Data after the war\n",
    "X_post = X[X['ACQ_DATE'] >= '2022-02-24']\n",
    "X_ts_post = X_ts[X['ACQ_DATE'] >= '2022-02-24']\n",
    "X_post.drop(columns=['ACQ_DATE'], inplace=True)\n",
    "\n",
    "X_pre.shape, X_post.shape"
   ]
  },
  {
   "cell_type": "code",
   "execution_count": 6,
   "metadata": {},
   "outputs": [
    {
     "data": {
      "text/html": [
       "<div>\n",
       "<style scoped>\n",
       "    .dataframe tbody tr th:only-of-type {\n",
       "        vertical-align: middle;\n",
       "    }\n",
       "\n",
       "    .dataframe tbody tr th {\n",
       "        vertical-align: top;\n",
       "    }\n",
       "\n",
       "    .dataframe thead th {\n",
       "        text-align: right;\n",
       "    }\n",
       "</style>\n",
       "<table border=\"1\" class=\"dataframe\">\n",
       "  <thead>\n",
       "    <tr style=\"text-align: right;\">\n",
       "      <th></th>\n",
       "      <th>0</th>\n",
       "      <th>1</th>\n",
       "      <th>2</th>\n",
       "      <th>3</th>\n",
       "      <th>4</th>\n",
       "      <th>5</th>\n",
       "      <th>6</th>\n",
       "      <th>7</th>\n",
       "      <th>8</th>\n",
       "      <th>9</th>\n",
       "    </tr>\n",
       "  </thead>\n",
       "  <tbody>\n",
       "    <tr>\n",
       "      <th>0</th>\n",
       "      <td>-1.374959</td>\n",
       "      <td>1.340125</td>\n",
       "      <td>0.023832</td>\n",
       "      <td>-0.700548</td>\n",
       "      <td>-0.665593</td>\n",
       "      <td>-1.824658</td>\n",
       "      <td>-2.500547</td>\n",
       "      <td>-0.633400</td>\n",
       "      <td>1.460238</td>\n",
       "      <td>-0.052238</td>\n",
       "    </tr>\n",
       "    <tr>\n",
       "      <th>1</th>\n",
       "      <td>-1.351500</td>\n",
       "      <td>1.375140</td>\n",
       "      <td>0.043223</td>\n",
       "      <td>-0.706143</td>\n",
       "      <td>-0.668156</td>\n",
       "      <td>-1.828080</td>\n",
       "      <td>-2.506011</td>\n",
       "      <td>-0.634814</td>\n",
       "      <td>1.459762</td>\n",
       "      <td>-0.066945</td>\n",
       "    </tr>\n",
       "    <tr>\n",
       "      <th>2</th>\n",
       "      <td>-1.327659</td>\n",
       "      <td>1.410653</td>\n",
       "      <td>0.062874</td>\n",
       "      <td>-0.711829</td>\n",
       "      <td>-0.670755</td>\n",
       "      <td>-1.831545</td>\n",
       "      <td>-2.511538</td>\n",
       "      <td>-0.636244</td>\n",
       "      <td>1.459280</td>\n",
       "      <td>-0.082305</td>\n",
       "    </tr>\n",
       "    <tr>\n",
       "      <th>3</th>\n",
       "      <td>-2.473470</td>\n",
       "      <td>-0.054122</td>\n",
       "      <td>-0.696804</td>\n",
       "      <td>-0.409604</td>\n",
       "      <td>-0.564782</td>\n",
       "      <td>-1.702680</td>\n",
       "      <td>-2.282596</td>\n",
       "      <td>-0.554315</td>\n",
       "      <td>1.478698</td>\n",
       "      <td>0.025888</td>\n",
       "    </tr>\n",
       "    <tr>\n",
       "      <th>4</th>\n",
       "      <td>-1.607116</td>\n",
       "      <td>-1.038983</td>\n",
       "      <td>1.043747</td>\n",
       "      <td>1.884137</td>\n",
       "      <td>-0.669353</td>\n",
       "      <td>-1.976050</td>\n",
       "      <td>-0.879053</td>\n",
       "      <td>0.187224</td>\n",
       "      <td>-0.264534</td>\n",
       "      <td>0.031801</td>\n",
       "    </tr>\n",
       "  </tbody>\n",
       "</table>\n",
       "</div>"
      ],
      "text/plain": [
       "          0         1         2         3         4         5         6  \\\n",
       "0 -1.374959  1.340125  0.023832 -0.700548 -0.665593 -1.824658 -2.500547   \n",
       "1 -1.351500  1.375140  0.043223 -0.706143 -0.668156 -1.828080 -2.506011   \n",
       "2 -1.327659  1.410653  0.062874 -0.711829 -0.670755 -1.831545 -2.511538   \n",
       "3 -2.473470 -0.054122 -0.696804 -0.409604 -0.564782 -1.702680 -2.282596   \n",
       "4 -1.607116 -1.038983  1.043747  1.884137 -0.669353 -1.976050 -0.879053   \n",
       "\n",
       "          7         8         9  \n",
       "0 -0.633400  1.460238 -0.052238  \n",
       "1 -0.634814  1.459762 -0.066945  \n",
       "2 -0.636244  1.459280 -0.082305  \n",
       "3 -0.554315  1.478698  0.025888  \n",
       "4  0.187224 -0.264534  0.031801  "
      ]
     },
     "execution_count": 6,
     "metadata": {},
     "output_type": "execute_result"
    }
   ],
   "source": [
    "# Load the scaler and pca models\n",
    "import pickle\n",
    "\n",
    "with open('saved_models/scaler.pkl', 'rb') as f:\n",
    "    scaler = pickle.load(f)\n",
    "\n",
    "with open('saved_models/pca.pkl', 'rb') as f:\n",
    "    pca = pickle.load(f)\n",
    "\n",
    "# Scale the data\n",
    "X_pre_scaled = scaler.transform(X_pre)\n",
    "X_pre_scaled = pd.DataFrame(X_pre_scaled, columns=X_pre.columns)\n",
    "\n",
    "# Apply PCA\n",
    "X_pre_pca = pca.transform(X_pre_scaled)\n",
    "X_pre_pca = pd.DataFrame(X_pre_pca)\n",
    "X_pre_pca.head()"
   ]
  },
  {
   "cell_type": "code",
   "execution_count": 7,
   "metadata": {},
   "outputs": [
    {
     "data": {
      "text/plain": [
       "(896367,)"
      ]
     },
     "execution_count": 7,
     "metadata": {},
     "output_type": "execute_result"
    }
   ],
   "source": [
    "# Load the cluster labels\n",
    "y_labels = pd.read_csv('output_data/cluster_labels_pre_war.csv')\n",
    "y_labels = np.array(y_labels['CLUSTER_LABEL'])\n",
    "y_labels.shape"
   ]
  },
  {
   "cell_type": "code",
   "execution_count": 10,
   "metadata": {},
   "outputs": [
    {
     "data": {
      "text/plain": [
       "np.float64(0.9940241284487643)"
      ]
     },
     "execution_count": 10,
     "metadata": {},
     "output_type": "execute_result"
    }
   ],
   "source": [
    "# Lets train a model to predict the cluster labels\n",
    "from sklearn.ensemble import RandomForestClassifier\n",
    "from sklearn.model_selection import train_test_split\n",
    "from sklearn.metrics import balanced_accuracy_score\n",
    "\n",
    "# Split the data into training and testing sets\n",
    "X_pre_train, X_pre_test, y_pre_train, y_pre_test = train_test_split(X_pre_pca, y_labels, test_size=0.1, stratify=y_labels, random_state=42)\n",
    "\n",
    "# Train a Random Forest classifier\n",
    "rf = RandomForestClassifier(n_estimators=100)\n",
    "rf.fit(X_pre_train, y_pre_train)\n",
    "\n",
    "# Predict the cluster labels\n",
    "y_pre_proba = rf.predict_proba(X_pre_test)\n",
    "\n",
    "# Get the predicted cluster labels from the probabilities\n",
    "y_pre_pred = np.argmax(y_pre_proba, axis=1)\n",
    "\n",
    "# Calculate the balanced accuracy\n",
    "balanced_accuracy = balanced_accuracy_score(y_pre_test, y_pre_pred)\n",
    "balanced_accuracy"
   ]
  },
  {
   "cell_type": "code",
   "execution_count": 11,
   "metadata": {},
   "outputs": [],
   "source": [
    "# Save the model as a pickle file\n",
    "with open('saved_models/rf_clf.pkl', 'wb') as f:\n",
    "    pickle.dump(rf, f)"
   ]
  },
  {
   "cell_type": "code",
   "execution_count": 12,
   "metadata": {},
   "outputs": [
    {
     "data": {
      "text/html": [
       "<div>\n",
       "<style scoped>\n",
       "    .dataframe tbody tr th:only-of-type {\n",
       "        vertical-align: middle;\n",
       "    }\n",
       "\n",
       "    .dataframe tbody tr th {\n",
       "        vertical-align: top;\n",
       "    }\n",
       "\n",
       "    .dataframe thead th {\n",
       "        text-align: right;\n",
       "    }\n",
       "</style>\n",
       "<table border=\"1\" class=\"dataframe\">\n",
       "  <thead>\n",
       "    <tr style=\"text-align: right;\">\n",
       "      <th></th>\n",
       "      <th>0</th>\n",
       "      <th>1</th>\n",
       "      <th>2</th>\n",
       "      <th>3</th>\n",
       "      <th>4</th>\n",
       "      <th>5</th>\n",
       "      <th>6</th>\n",
       "      <th>7</th>\n",
       "      <th>8</th>\n",
       "      <th>9</th>\n",
       "    </tr>\n",
       "  </thead>\n",
       "  <tbody>\n",
       "    <tr>\n",
       "      <th>0</th>\n",
       "      <td>0.654625</td>\n",
       "      <td>3.114376</td>\n",
       "      <td>0.279042</td>\n",
       "      <td>1.109230</td>\n",
       "      <td>2.461454</td>\n",
       "      <td>-0.839216</td>\n",
       "      <td>-2.075397</td>\n",
       "      <td>-1.732895</td>\n",
       "      <td>-0.421888</td>\n",
       "      <td>0.886627</td>\n",
       "    </tr>\n",
       "    <tr>\n",
       "      <th>1</th>\n",
       "      <td>-1.476247</td>\n",
       "      <td>0.115787</td>\n",
       "      <td>-1.019781</td>\n",
       "      <td>1.682075</td>\n",
       "      <td>2.764903</td>\n",
       "      <td>-0.439422</td>\n",
       "      <td>-1.751559</td>\n",
       "      <td>-1.525811</td>\n",
       "      <td>-0.811942</td>\n",
       "      <td>0.035184</td>\n",
       "    </tr>\n",
       "    <tr>\n",
       "      <th>2</th>\n",
       "      <td>-1.414617</td>\n",
       "      <td>1.088409</td>\n",
       "      <td>-1.525867</td>\n",
       "      <td>1.403854</td>\n",
       "      <td>2.458175</td>\n",
       "      <td>-0.874336</td>\n",
       "      <td>-1.546762</td>\n",
       "      <td>-1.736021</td>\n",
       "      <td>0.620285</td>\n",
       "      <td>0.342124</td>\n",
       "    </tr>\n",
       "    <tr>\n",
       "      <th>3</th>\n",
       "      <td>-0.327953</td>\n",
       "      <td>2.191145</td>\n",
       "      <td>-0.664911</td>\n",
       "      <td>1.224201</td>\n",
       "      <td>2.436058</td>\n",
       "      <td>-0.883948</td>\n",
       "      <td>-1.783913</td>\n",
       "      <td>-1.747083</td>\n",
       "      <td>0.205398</td>\n",
       "      <td>-0.859834</td>\n",
       "    </tr>\n",
       "    <tr>\n",
       "      <th>4</th>\n",
       "      <td>0.876728</td>\n",
       "      <td>3.258420</td>\n",
       "      <td>0.332842</td>\n",
       "      <td>1.056786</td>\n",
       "      <td>2.443894</td>\n",
       "      <td>-0.856334</td>\n",
       "      <td>-2.089707</td>\n",
       "      <td>-1.744422</td>\n",
       "      <td>-0.418960</td>\n",
       "      <td>0.731695</td>\n",
       "    </tr>\n",
       "  </tbody>\n",
       "</table>\n",
       "</div>"
      ],
      "text/plain": [
       "          0         1         2         3         4         5         6  \\\n",
       "0  0.654625  3.114376  0.279042  1.109230  2.461454 -0.839216 -2.075397   \n",
       "1 -1.476247  0.115787 -1.019781  1.682075  2.764903 -0.439422 -1.751559   \n",
       "2 -1.414617  1.088409 -1.525867  1.403854  2.458175 -0.874336 -1.546762   \n",
       "3 -0.327953  2.191145 -0.664911  1.224201  2.436058 -0.883948 -1.783913   \n",
       "4  0.876728  3.258420  0.332842  1.056786  2.443894 -0.856334 -2.089707   \n",
       "\n",
       "          7         8         9  \n",
       "0 -1.732895 -0.421888  0.886627  \n",
       "1 -1.525811 -0.811942  0.035184  \n",
       "2 -1.736021  0.620285  0.342124  \n",
       "3 -1.747083  0.205398 -0.859834  \n",
       "4 -1.744422 -0.418960  0.731695  "
      ]
     },
     "execution_count": 12,
     "metadata": {},
     "output_type": "execute_result"
    }
   ],
   "source": [
    "# Apply the scaler and PCA to X_post data\n",
    "X_post_scaled = scaler.transform(X_post)\n",
    "X_post_scaled = pd.DataFrame(X_post_scaled, columns=X_post.columns)\n",
    "X_post_pca = pca.transform(X_post_scaled)\n",
    "X_post_pca = pd.DataFrame(X_post_pca)\n",
    "\n",
    "X_post_pca.head()"
   ]
  },
  {
   "cell_type": "code",
   "execution_count": 13,
   "metadata": {},
   "outputs": [
    {
     "data": {
      "text/plain": [
       "((411683,), (411683, 10))"
      ]
     },
     "execution_count": 13,
     "metadata": {},
     "output_type": "execute_result"
    }
   ],
   "source": [
    "# Predict the cluster labels for the X_post data\n",
    "y_post_proba = rf.predict_proba(X_post_pca)\n",
    "y_post_pred = np.argmax(y_post_proba, axis=1)\n",
    "y_post_pred.shape, y_post_proba.shape"
   ]
  },
  {
   "cell_type": "code",
   "execution_count": 14,
   "metadata": {},
   "outputs": [
    {
     "name": "stdout",
     "output_type": "stream",
     "text": [
      "75-th Percentile: Number of out-of-distribution points based on entropy: 189797\n",
      "75-th Percentile: Relative amount of out-of-distribution points based on entropy: 0.4610270523679627\n",
      "\n",
      "80-th Percentile: Number of out-of-distribution points based on entropy: 147175\n",
      "80-th Percentile: Relative amount of out-of-distribution points based on entropy: 0.35749593740815144\n",
      "\n",
      "90-th Percentile: Number of out-of-distribution points based on entropy: 117698\n",
      "90-th Percentile: Relative amount of out-of-distribution points based on entropy: 0.2858947296827899\n",
      "\n",
      "95-th Percentile: Number of out-of-distribution points based on entropy: 65518\n",
      "95-th Percentile: Relative amount of out-of-distribution points based on entropy: 0.15914672211385944\n",
      "\n",
      "98-th Percentile: Number of out-of-distribution points based on entropy: 33011\n",
      "98-th Percentile: Relative amount of out-of-distribution points based on entropy: 0.08018548251931705\n",
      "\n",
      "99-th Percentile: Number of out-of-distribution points based on entropy: 22852\n",
      "99-th Percentile: Relative amount of out-of-distribution points based on entropy: 0.05550872880347257\n",
      "\n"
     ]
    }
   ],
   "source": [
    "from scipy.stats import entropy\n",
    "\n",
    "# Calculate the entropy of the predicted probabilities for pre and post war data\n",
    "entropy_pre = entropy(y_pre_proba, axis=1)\n",
    "entropy_post = entropy(y_post_proba, axis=1)\n",
    "\n",
    "# Iterate over different thresholds to find the best one\n",
    "perc_thresholds = [75, 80, 90, 95, 98, 99]\n",
    "\n",
    "for perc in perc_thresholds:\n",
    "    # Set a threshold for out-of-distribution detection based on the pre-war data entropy\n",
    "    threshold_entropy = np.percentile(entropy_pre, perc)  # X-th percentile\n",
    "\n",
    "    # Detect out-of-distribution points in the post-war data\n",
    "    ood = pd.Series(entropy_post > threshold_entropy)\n",
    "\n",
    "    # Adjust the indices to fit with the original data\n",
    "    ood.index = X_post.index\n",
    "\n",
    "    # List the indices of out-of-distribution points\n",
    "    ood_indices = list(ood[ood].index)\n",
    "\n",
    "    # Print the results\n",
    "    print(f\"{perc}-th Percentile: Number of out-of-distribution points based on entropy: {ood.sum()}\")\n",
    "    # print(f\"{perc}-th Percentile: Indices of out-of-distribution points based on entropy: {ood_indices}\")\n",
    "    print(f\"{perc}-th Percentile: Relative amount of out-of-distribution points based on entropy: {ood.mean()}\\n\")\n",
    "\n",
    "    # Save the out-of-distribution points\n",
    "    ood_df = pd.DataFrame(ood)\n",
    "    ood_df.columns = ['OOD']\n",
    "    ood_df['FIRE_ID'] = X_ts_post['FIRE_ID']\n",
    "    ood_df = ood_df[['FIRE_ID', 'OOD']]\n",
    "    ood_df.to_csv('output_data/ood_indices_{}.csv'.format(perc), index=False)"
   ]
  }
 ],
 "metadata": {
  "kernelspec": {
   "display_name": ".venv",
   "language": "python",
   "name": "python3"
  },
  "language_info": {
   "codemirror_mode": {
    "name": "ipython",
    "version": 3
   },
   "file_extension": ".py",
   "mimetype": "text/x-python",
   "name": "python",
   "nbconvert_exporter": "python",
   "pygments_lexer": "ipython3",
   "version": "3.12.3"
  }
 },
 "nbformat": 4,
 "nbformat_minor": 2
}
